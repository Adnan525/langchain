{
 "cells": [
  {
   "cell_type": "code",
   "execution_count": 4,
   "id": "3f96d4fd-2ae0-4969-863e-50d4cb4a5281",
   "metadata": {},
   "outputs": [],
   "source": [
    "from langchain_community.document_loaders.csv_loader import CSVLoader\n",
    "from langchain_community.document_loaders.url import UnstructuredURLLoader"
   ]
  },
  {
   "cell_type": "code",
   "execution_count": 5,
   "id": "5d72be02-fd35-4eb1-a515-82aba6ab0e05",
   "metadata": {},
   "outputs": [],
   "source": [
    "lora_api_link = \"https://huggingface.co/docs/peft/main/en/developer_guides/lora#merge-lora-weights-into-the-base-model\""
   ]
  },
  {
   "cell_type": "code",
   "execution_count": 6,
   "id": "ad3554e0-9b50-4561-8ca1-0dd2ac815b43",
   "metadata": {},
   "outputs": [
    {
     "name": "stderr",
     "output_type": "stream",
     "text": [
      "[nltk_data] Downloading package punkt to /home/s448780/nltk_data...\n",
      "[nltk_data]   Unzipping tokenizers/punkt.zip.\n",
      "[nltk_data] Downloading package averaged_perceptron_tagger to\n",
      "[nltk_data]     /home/s448780/nltk_data...\n",
      "[nltk_data]   Unzipping taggers/averaged_perceptron_tagger.zip.\n"
     ]
    },
    {
     "data": {
      "text/plain": [
       "1"
      ]
     },
     "execution_count": 6,
     "metadata": {},
     "output_type": "execute_result"
    }
   ],
   "source": [
    "loader = UnstructuredURLLoader(urls=[lora_api_link])\n",
    "data = loader.load()\n",
    "len(data)"
   ]
  },
  {
   "cell_type": "code",
   "execution_count": 9,
   "id": "43ef07b8-714e-45cc-b46a-d600d6bacd3f",
   "metadata": {},
   "outputs": [
    {
     "data": {
      "text/plain": [
       "{'source': 'https://huggingface.co/docs/peft/main/en/developer_guides/lora#merge-lora-weights-into-the-base-model'}"
      ]
     },
     "execution_count": 9,
     "metadata": {},
     "output_type": "execute_result"
    }
   ],
   "source": [
    "data[0].metadata"
   ]
  },
  {
   "cell_type": "markdown",
   "id": "79dc158b-6d61-41f2-b336-da1f76666bc1",
   "metadata": {},
   "source": [
    "## text splitter\n",
    "provided list of contexts' token length has to be less than the context length of the LLM. so we split data.\n",
    "- merged split so the chunks' context lengths are close to LLM's max context length\n",
    "- Overlap chunks will have common data between chunks"
   ]
  },
  {
   "cell_type": "code",
   "execution_count": null,
   "id": "0489b92a-edcf-45d0-bcfc-9e784f5a7557",
   "metadata": {},
   "outputs": [],
   "source": []
  },
  {
   "cell_type": "code",
   "execution_count": null,
   "id": "2dfd0f00-bc61-439a-8660-9002dcf80edc",
   "metadata": {},
   "outputs": [],
   "source": []
  },
  {
   "cell_type": "code",
   "execution_count": null,
   "id": "ca0723f5-abd5-4ef5-b3d9-7adfaaf59dc1",
   "metadata": {},
   "outputs": [],
   "source": []
  }
 ],
 "metadata": {
  "kernelspec": {
   "display_name": "Python 3 (ipykernel)",
   "language": "python",
   "name": "python3"
  },
  "language_info": {
   "codemirror_mode": {
    "name": "ipython",
    "version": 3
   },
   "file_extension": ".py",
   "mimetype": "text/x-python",
   "name": "python",
   "nbconvert_exporter": "python",
   "pygments_lexer": "ipython3",
   "version": "3.12.4"
  }
 },
 "nbformat": 4,
 "nbformat_minor": 5
}
