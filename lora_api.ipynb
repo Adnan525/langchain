{
 "cells": [
  {
   "cell_type": "markdown",
   "id": "96cfcb20-8f69-4b99-b270-cab67b040e4b",
   "metadata": {},
   "source": [
    "## the notebook uses RAG for a webpage, specifically the LoRA documentation on HuggingFace"
   ]
  },
  {
   "cell_type": "code",
   "execution_count": 11,
   "id": "3f96d4fd-2ae0-4969-863e-50d4cb4a5281",
   "metadata": {},
   "outputs": [],
   "source": [
    "import os\n",
    "import streamlit as st\n",
    "import pickle\n",
    "import time\n",
    "from langchain import OpenAI\n",
    "from langchain.chains import RetrievalQAWithSourcesChain\n",
    "from langchain.chains.qa_with_sources.loading import load_qa_with_sources_chain\n",
    "from langchain.text_splitter import RecursiveCharacterTextSplitter # splits bases on multiple args\n",
    "from langchain_community.document_loaders.url import UnstructuredURLLoader\n",
    "from langchain.embeddings import OpenAIEmbeddings\n",
    "from langchain.vectorstores import FAISS\n",
    "from dotenv import load_dotenv"
   ]
  },
  {
   "cell_type": "code",
   "execution_count": 14,
   "id": "bbab3871-5ca8-467d-b72f-1f2aa6c9cb80",
   "metadata": {},
   "outputs": [],
   "source": [
    "load_dotenv()\n",
    "openai_api_key = os.getenv(\"openai_api_key\")"
   ]
  },
  {
   "cell_type": "markdown",
   "id": "446edebe-20b6-4b4f-9b2e-b31c62232866",
   "metadata": {},
   "source": [
    "## openai llm"
   ]
  },
  {
   "cell_type": "code",
   "execution_count": 16,
   "id": "20d00681-9f1d-4fcd-b94e-26ddff58ab1b",
   "metadata": {},
   "outputs": [],
   "source": [
    "llm = OpenAI(temperature=0.9, max_tokens=500, openai_api_key = openai_api_key)"
   ]
  },
  {
   "cell_type": "markdown",
   "id": "7d8c3cdd-a988-485e-beb5-8d54461b12a4",
   "metadata": {},
   "source": [
    "## loader"
   ]
  },
  {
   "cell_type": "code",
   "execution_count": 17,
   "id": "5d72be02-fd35-4eb1-a515-82aba6ab0e05",
   "metadata": {},
   "outputs": [],
   "source": [
    "lora_api_link = \"https://huggingface.co/docs/peft/main/en/developer_guides/lora#merge-lora-weights-into-the-base-model\""
   ]
  },
  {
   "cell_type": "code",
   "execution_count": 18,
   "id": "ad3554e0-9b50-4561-8ca1-0dd2ac815b43",
   "metadata": {},
   "outputs": [
    {
     "data": {
      "text/plain": [
       "1"
      ]
     },
     "execution_count": 18,
     "metadata": {},
     "output_type": "execute_result"
    }
   ],
   "source": [
    "loader = UnstructuredURLLoader(urls=[lora_api_link])\n",
    "data = loader.load()\n",
    "len(data)"
   ]
  },
  {
   "cell_type": "code",
   "execution_count": 19,
   "id": "43ef07b8-714e-45cc-b46a-d600d6bacd3f",
   "metadata": {},
   "outputs": [
    {
     "data": {
      "text/plain": [
       "{'source': 'https://huggingface.co/docs/peft/main/en/developer_guides/lora#merge-lora-weights-into-the-base-model'}"
      ]
     },
     "execution_count": 19,
     "metadata": {},
     "output_type": "execute_result"
    }
   ],
   "source": [
    "data[0].metadata"
   ]
  },
  {
   "cell_type": "markdown",
   "id": "79dc158b-6d61-41f2-b336-da1f76666bc1",
   "metadata": {},
   "source": [
    "## text splitter\n",
    "provided list of contexts' token length has to be less than the context length of the LLM. so we split data.\n",
    "- merged split so the chunks' context lengths are close to LLM's max context length\n",
    "- Overlap chunks will have common data between chunks"
   ]
  },
  {
   "cell_type": "code",
   "execution_count": 20,
   "id": "0489b92a-edcf-45d0-bcfc-9e784f5a7557",
   "metadata": {},
   "outputs": [],
   "source": [
    "text_splitter = RecursiveCharacterTextSplitter(chunk_size = 1000, chunk_overlap = 200)"
   ]
  },
  {
   "cell_type": "code",
   "execution_count": 21,
   "id": "12aa028e-59ef-42bb-a12a-67ab73643d33",
   "metadata": {},
   "outputs": [],
   "source": [
    "docs = text_splitter.split_documents(data)"
   ]
  },
  {
   "cell_type": "code",
   "execution_count": 25,
   "id": "f3cb995d-9ae5-4107-a15f-37b942c08bba",
   "metadata": {},
   "outputs": [
    {
     "data": {
      "text/plain": [
       "25"
      ]
     },
     "execution_count": 25,
     "metadata": {},
     "output_type": "execute_result"
    }
   ],
   "source": [
    "len(docs)"
   ]
  },
  {
   "cell_type": "markdown",
   "id": "ecea14cf-6737-493a-b766-1484ab42692f",
   "metadata": {},
   "source": [
    "## embedding"
   ]
  },
  {
   "cell_type": "code",
   "execution_count": 28,
   "id": "ca0723f5-abd5-4ef5-b3d9-7adfaaf59dc1",
   "metadata": {},
   "outputs": [],
   "source": [
    "embedding_model = OpenAIEmbeddings(openai_api_key = openai_api_key)"
   ]
  },
  {
   "cell_type": "code",
   "execution_count": 36,
   "id": "43b1af72-9d18-405e-849a-f747a632e7d0",
   "metadata": {},
   "outputs": [],
   "source": [
    "index = FAISS.from_documents(docs, embedding_model)"
   ]
  },
  {
   "cell_type": "markdown",
   "id": "48684558-25cc-4c06-9c53-92fb0d6c1ac3",
   "metadata": {},
   "source": [
    "## query"
   ]
  },
  {
   "cell_type": "code",
   "execution_count": 40,
   "id": "1fc7726b-3ad3-4712-9e82-366974c3186f",
   "metadata": {},
   "outputs": [],
   "source": [
    "# uses map reduce by default\n",
    "# template='Given the following extracted parts of a long document and a question, create a final answer with references (\"SOURCES\"). \n",
    "# \\nIf you don\\'t know the answer, just say that you don\\'t know. \n",
    "# Don\\'t try to make up an answer.\\nALWAYS return a \"SOURCES\" part in your answer\n",
    "\n",
    "chain = RetrievalQAWithSourcesChain.from_llm(llm = llm, retriever=index.as_retriever())"
   ]
  },
  {
   "cell_type": "code",
   "execution_count": 41,
   "id": "c6591392-9435-4afc-ac3e-d8f55bf6a8c6",
   "metadata": {},
   "outputs": [],
   "source": [
    "query = \"How merge_an_unload() works?\""
   ]
  },
  {
   "cell_type": "code",
   "execution_count": 44,
   "id": "7030fd69-0b79-4820-aac6-1008e16ba5a0",
   "metadata": {},
   "outputs": [
    {
     "name": "stdout",
     "output_type": "stream",
     "text": [
      "\u001b[32;1m\u001b[1;3m[chain/start]\u001b[0m \u001b[1m[chain:RetrievalQAWithSourcesChain] Entering Chain run with input:\n",
      "\u001b[0m{\n",
      "  \"question\": \"How merge_an_unload() works?\"\n",
      "}\n",
      "\u001b[32;1m\u001b[1;3m[chain/start]\u001b[0m \u001b[1m[chain:RetrievalQAWithSourcesChain > chain:MapReduceDocumentsChain] Entering Chain run with input:\n",
      "\u001b[0m[inputs]\n",
      "\u001b[32;1m\u001b[1;3m[chain/start]\u001b[0m \u001b[1m[chain:RetrievalQAWithSourcesChain > chain:MapReduceDocumentsChain > chain:LLMChain] Entering Chain run with input:\n",
      "\u001b[0m{\n",
      "  \"input_list\": [\n",
      "    {\n",
      "      \"context\": \"Merge LoRA weights into the base model\\n\\nWhile LoRA is significantly smaller and faster to train, you may encounter latency issues during inference due to separately loading the base model and the LoRA adapter. To eliminate latency, use the merge_and_unload() function to merge the adapter weights with the base model. This allows you to use the newly merged model as a standalone model. The merge_and_unload() function doesn’t keep the adapter weights in memory.\\n\\nBelow is a diagram that explains the intuition of LoRA adapter merging:\\n\\nWe show in the snippets below how to run that using PEFT.\\n\\nCopied\\n\\nfrom transformers\\n\\nimport AutoModelForCausalLM\\n\\nfrom peft\\n\\nimport PeftModel\\n\\nbase_model = AutoModelForCausalLM.from_pretrained(\\n\\n\\\"mistralai/Mistral-7B-v0.1\\\")\\npeft_model_id =\\n\\n\\\"alignment-handbook/zephyr-7b-sft-lora\\\"\\nmodel = PeftModel.from_pretrained(base_model, peft_model_id)\\nmodel.merge_and_unload()\",\n",
      "      \"question\": \"How merge_an_unload() works?\"\n",
      "    },\n",
      "    {\n",
      "      \"context\": \"Caveats\\n\\nUsing this features has some drawbacks, namely:\\n\\nIt only works for inference, not for training.\\n\\nDisabling adapters using the with model.disable_adapter() context takes precedence over adapter_names.\\n\\nYou cannot pass adapter_names when some adapter weights where merged with base weight using the merge_adapter method. Please unmerge all adapters first by calling model.unmerge_adapter().\\n\\nFor obvious reasons, this cannot be used after calling merge_and_unload(), since all the LoRA adapters will be merged into the base weights in this case.\\n\\nThis feature does not currently work with DoRA, so set use_dora=False in your LoraConfig if you want to use it.\",\n",
      "      \"question\": \"How merge_an_unload() works?\"\n",
      "    },\n",
      "    {\n",
      "      \"context\": \"\\\"mistralai/Mistral-7B-v0.1\\\")\\npeft_model_id =\\n\\n\\\"alignment-handbook/zephyr-7b-sft-lora\\\"\\nmodel = PeftModel.from_pretrained(base_model, peft_model_id)\\nmodel.merge_and_unload()\\n\\nIf you need to keep a copy of the weights so you can unmerge the adapter later or delete and load different ones, you should use the merge_adapter() function instead. Now you have the option to use unmerge_adapter() to return the base model.\\n\\nCopied\\n\\nfrom transformers\\n\\nimport AutoModelForCausalLM\\n\\nfrom peft\\n\\nimport PeftModel\\n\\nbase_model = AutoModelForCausalLM.from_pretrained(\\n\\n\\\"mistralai/Mistral-7B-v0.1\\\")\\npeft_model_id =\\n\\n\\\"alignment-handbook/zephyr-7b-sft-lora\\\"\\nmodel = PeftModel.from_pretrained(base_model, peft_model_id)\\nmodel.merge_adapter()\\n\\n# unmerge the LoRA layers from the base model\\nmodel.unmerge_adapter()\\n\\nThe add_weighted_adapter() function is useful for merging multiple LoRAs into a new adapter based on a user provided weighting scheme in the weights parameter. Below is an end-to-end example.\",\n",
      "      \"question\": \"How merge_an_unload() works?\"\n",
      "    },\n",
      "    {\n",
      "      \"context\": \"\\\"dpo\\\")\\n\\nTo return the base model, you could use unload() to unload all of the LoRA modules or delete_adapter() to delete the adapter entirely.\\n\\nCopied\\n\\n# unload adapter\\nmodel.unload()\\n\\n# delete adapter\\nmodel.delete_adapter(\\n\\n\\\"dpo\\\")\\n\\nInference with different LoRA adapters in the same batch\\n\\nNormally, each inference batch has to use the same adapter(s) in PEFT. This can sometimes be annoying, because we may have batches that contain samples intended to be used with different LoRA adapters. For example, we could have a base model that works well in English and two more LoRA adapters, one for French and one for German. Usually, we would have to split our batches such that each batch only contains samples of one of the languages, we cannot combine different languages in the same batch.\",\n",
      "      \"question\": \"How merge_an_unload() works?\"\n",
      "    }\n",
      "  ]\n",
      "}\n",
      "\u001b[32;1m\u001b[1;3m[llm/start]\u001b[0m \u001b[1m[chain:RetrievalQAWithSourcesChain > chain:MapReduceDocumentsChain > chain:LLMChain > llm:OpenAI] Entering LLM run with input:\n",
      "\u001b[0m{\n",
      "  \"prompts\": [\n",
      "    \"Use the following portion of a long document to see if any of the text is relevant to answer the question. \\nReturn any relevant text verbatim.\\nMerge LoRA weights into the base model\\n\\nWhile LoRA is significantly smaller and faster to train, you may encounter latency issues during inference due to separately loading the base model and the LoRA adapter. To eliminate latency, use the merge_and_unload() function to merge the adapter weights with the base model. This allows you to use the newly merged model as a standalone model. The merge_and_unload() function doesn’t keep the adapter weights in memory.\\n\\nBelow is a diagram that explains the intuition of LoRA adapter merging:\\n\\nWe show in the snippets below how to run that using PEFT.\\n\\nCopied\\n\\nfrom transformers\\n\\nimport AutoModelForCausalLM\\n\\nfrom peft\\n\\nimport PeftModel\\n\\nbase_model = AutoModelForCausalLM.from_pretrained(\\n\\n\\\"mistralai/Mistral-7B-v0.1\\\")\\npeft_model_id =\\n\\n\\\"alignment-handbook/zephyr-7b-sft-lora\\\"\\nmodel = PeftModel.from_pretrained(base_model, peft_model_id)\\nmodel.merge_and_unload()\\nQuestion: How merge_an_unload() works?\\nRelevant text, if any:\"\n",
      "  ]\n",
      "}\n",
      "\u001b[32;1m\u001b[1;3m[llm/start]\u001b[0m \u001b[1m[chain:RetrievalQAWithSourcesChain > chain:MapReduceDocumentsChain > chain:LLMChain > llm:OpenAI] Entering LLM run with input:\n",
      "\u001b[0m{\n",
      "  \"prompts\": [\n",
      "    \"Use the following portion of a long document to see if any of the text is relevant to answer the question. \\nReturn any relevant text verbatim.\\nCaveats\\n\\nUsing this features has some drawbacks, namely:\\n\\nIt only works for inference, not for training.\\n\\nDisabling adapters using the with model.disable_adapter() context takes precedence over adapter_names.\\n\\nYou cannot pass adapter_names when some adapter weights where merged with base weight using the merge_adapter method. Please unmerge all adapters first by calling model.unmerge_adapter().\\n\\nFor obvious reasons, this cannot be used after calling merge_and_unload(), since all the LoRA adapters will be merged into the base weights in this case.\\n\\nThis feature does not currently work with DoRA, so set use_dora=False in your LoraConfig if you want to use it.\\nQuestion: How merge_an_unload() works?\\nRelevant text, if any:\"\n",
      "  ]\n",
      "}\n",
      "\u001b[32;1m\u001b[1;3m[llm/start]\u001b[0m \u001b[1m[chain:RetrievalQAWithSourcesChain > chain:MapReduceDocumentsChain > chain:LLMChain > llm:OpenAI] Entering LLM run with input:\n",
      "\u001b[0m{\n",
      "  \"prompts\": [\n",
      "    \"Use the following portion of a long document to see if any of the text is relevant to answer the question. \\nReturn any relevant text verbatim.\\n\\\"mistralai/Mistral-7B-v0.1\\\")\\npeft_model_id =\\n\\n\\\"alignment-handbook/zephyr-7b-sft-lora\\\"\\nmodel = PeftModel.from_pretrained(base_model, peft_model_id)\\nmodel.merge_and_unload()\\n\\nIf you need to keep a copy of the weights so you can unmerge the adapter later or delete and load different ones, you should use the merge_adapter() function instead. Now you have the option to use unmerge_adapter() to return the base model.\\n\\nCopied\\n\\nfrom transformers\\n\\nimport AutoModelForCausalLM\\n\\nfrom peft\\n\\nimport PeftModel\\n\\nbase_model = AutoModelForCausalLM.from_pretrained(\\n\\n\\\"mistralai/Mistral-7B-v0.1\\\")\\npeft_model_id =\\n\\n\\\"alignment-handbook/zephyr-7b-sft-lora\\\"\\nmodel = PeftModel.from_pretrained(base_model, peft_model_id)\\nmodel.merge_adapter()\\n\\n# unmerge the LoRA layers from the base model\\nmodel.unmerge_adapter()\\n\\nThe add_weighted_adapter() function is useful for merging multiple LoRAs into a new adapter based on a user provided weighting scheme in the weights parameter. Below is an end-to-end example.\\nQuestion: How merge_an_unload() works?\\nRelevant text, if any:\"\n",
      "  ]\n",
      "}\n",
      "\u001b[32;1m\u001b[1;3m[llm/start]\u001b[0m \u001b[1m[chain:RetrievalQAWithSourcesChain > chain:MapReduceDocumentsChain > chain:LLMChain > llm:OpenAI] Entering LLM run with input:\n",
      "\u001b[0m{\n",
      "  \"prompts\": [\n",
      "    \"Use the following portion of a long document to see if any of the text is relevant to answer the question. \\nReturn any relevant text verbatim.\\n\\\"dpo\\\")\\n\\nTo return the base model, you could use unload() to unload all of the LoRA modules or delete_adapter() to delete the adapter entirely.\\n\\nCopied\\n\\n# unload adapter\\nmodel.unload()\\n\\n# delete adapter\\nmodel.delete_adapter(\\n\\n\\\"dpo\\\")\\n\\nInference with different LoRA adapters in the same batch\\n\\nNormally, each inference batch has to use the same adapter(s) in PEFT. This can sometimes be annoying, because we may have batches that contain samples intended to be used with different LoRA adapters. For example, we could have a base model that works well in English and two more LoRA adapters, one for French and one for German. Usually, we would have to split our batches such that each batch only contains samples of one of the languages, we cannot combine different languages in the same batch.\\nQuestion: How merge_an_unload() works?\\nRelevant text, if any:\"\n",
      "  ]\n",
      "}\n",
      "\u001b[36;1m\u001b[1;3m[llm/end]\u001b[0m \u001b[1m[chain:RetrievalQAWithSourcesChain > chain:MapReduceDocumentsChain > chain:LLMChain > llm:OpenAI] [3.04s] Exiting LLM run with output:\n",
      "\u001b[0m{\n",
      "  \"generations\": [\n",
      "    [\n",
      "      {\n",
      "        \"text\": \" To eliminate latency, use the merge_and_unload() function to merge the adapter weights with the base model. This allows you to use the newly merged model as a standalone model. The merge_and_unload() function doesn’t keep the adapter weights in memory.\",\n",
      "        \"generation_info\": {\n",
      "          \"finish_reason\": \"stop\",\n",
      "          \"logprobs\": null\n",
      "        },\n",
      "        \"type\": \"Generation\"\n",
      "      }\n",
      "    ]\n",
      "  ],\n",
      "  \"llm_output\": {\n",
      "    \"token_usage\": {\n",
      "      \"prompt_tokens\": 959,\n",
      "      \"total_tokens\": 1271,\n",
      "      \"completion_tokens\": 312\n",
      "    },\n",
      "    \"model_name\": \"gpt-3.5-turbo-instruct\"\n",
      "  },\n",
      "  \"run\": null\n",
      "}\n",
      "\u001b[36;1m\u001b[1;3m[llm/end]\u001b[0m \u001b[1m[chain:RetrievalQAWithSourcesChain > chain:MapReduceDocumentsChain > chain:LLMChain > llm:OpenAI] [3.04s] Exiting LLM run with output:\n",
      "\u001b[0m{\n",
      "  \"generations\": [\n",
      "    [\n",
      "      {\n",
      "        \"text\": \"\\n\\n\\\"For obvious reasons, this cannot be used after calling merge_and_unload(), since all the LoRA adapters will be merged into the base weights in this case.\\\"\",\n",
      "        \"generation_info\": {\n",
      "          \"finish_reason\": \"stop\",\n",
      "          \"logprobs\": null\n",
      "        },\n",
      "        \"type\": \"Generation\"\n",
      "      }\n",
      "    ]\n",
      "  ],\n",
      "  \"llm_output\": {\n",
      "    \"token_usage\": {},\n",
      "    \"model_name\": \"gpt-3.5-turbo-instruct\"\n",
      "  },\n",
      "  \"run\": null\n",
      "}\n",
      "\u001b[36;1m\u001b[1;3m[llm/end]\u001b[0m \u001b[1m[chain:RetrievalQAWithSourcesChain > chain:MapReduceDocumentsChain > chain:LLMChain > llm:OpenAI] [3.04s] Exiting LLM run with output:\n",
      "\u001b[0m{\n",
      "  \"generations\": [\n",
      "    [\n",
      "      {\n",
      "        \"text\": \"\\nNow you have the option to use unmerge_adapter() to return the base model. The add_weighted_adapter() function is useful for merging multiple LoRAs into a new adapter based on a user provided weighting scheme in the weights parameter.\",\n",
      "        \"generation_info\": {\n",
      "          \"finish_reason\": \"stop\",\n",
      "          \"logprobs\": null\n",
      "        },\n",
      "        \"type\": \"Generation\"\n",
      "      }\n",
      "    ]\n",
      "  ],\n",
      "  \"llm_output\": {\n",
      "    \"token_usage\": {},\n",
      "    \"model_name\": \"gpt-3.5-turbo-instruct\"\n",
      "  },\n",
      "  \"run\": null\n",
      "}\n",
      "\u001b[36;1m\u001b[1;3m[llm/end]\u001b[0m \u001b[1m[chain:RetrievalQAWithSourcesChain > chain:MapReduceDocumentsChain > chain:LLMChain > llm:OpenAI] [3.04s] Exiting LLM run with output:\n",
      "\u001b[0m{\n",
      "  \"generations\": [\n",
      "    [\n",
      "      {\n",
      "        \"text\": \"\\n\\nTo return the base model, you could use unload() to unload all of the LoRA modules or delete_adapter() to delete the adapter entirely.\\n\\nCopied\\n\\n# unload adapter\\nmodel.unload()\\n\\n# delete adapter\\nmodel.delete_adapter(\\n\\n\\\"dpo\\\")\\n\\nInference with different LoRA adapters in the same batch\\n\\nNormally, each inference batch has to use the same adapter(s) in PEFT. This can sometimes be annoying, because we may have batches that contain samples intended to be used with different LoRA adapters. For example, we could have a base model that works well in English and two more LoRA adapters, one for French and one for German. Usually, we would have to split our batches such that each batch only contains samples of one of the languages, we cannot combine different languages in the same batch.\\n\\n# merge and unload adapters\\nmodel.merge_and_unload()\",\n",
      "        \"generation_info\": {\n",
      "          \"finish_reason\": \"stop\",\n",
      "          \"logprobs\": null\n",
      "        },\n",
      "        \"type\": \"Generation\"\n",
      "      }\n",
      "    ]\n",
      "  ],\n",
      "  \"llm_output\": {\n",
      "    \"token_usage\": {},\n",
      "    \"model_name\": \"gpt-3.5-turbo-instruct\"\n",
      "  },\n",
      "  \"run\": null\n",
      "}\n",
      "\u001b[36;1m\u001b[1;3m[chain/end]\u001b[0m \u001b[1m[chain:RetrievalQAWithSourcesChain > chain:MapReduceDocumentsChain > chain:LLMChain] [3.05s] Exiting Chain run with output:\n",
      "\u001b[0m{\n",
      "  \"outputs\": [\n",
      "    {\n",
      "      \"text\": \" To eliminate latency, use the merge_and_unload() function to merge the adapter weights with the base model. This allows you to use the newly merged model as a standalone model. The merge_and_unload() function doesn’t keep the adapter weights in memory.\"\n",
      "    },\n",
      "    {\n",
      "      \"text\": \"\\n\\n\\\"For obvious reasons, this cannot be used after calling merge_and_unload(), since all the LoRA adapters will be merged into the base weights in this case.\\\"\"\n",
      "    },\n",
      "    {\n",
      "      \"text\": \"\\nNow you have the option to use unmerge_adapter() to return the base model. The add_weighted_adapter() function is useful for merging multiple LoRAs into a new adapter based on a user provided weighting scheme in the weights parameter.\"\n",
      "    },\n",
      "    {\n",
      "      \"text\": \"\\n\\nTo return the base model, you could use unload() to unload all of the LoRA modules or delete_adapter() to delete the adapter entirely.\\n\\nCopied\\n\\n# unload adapter\\nmodel.unload()\\n\\n# delete adapter\\nmodel.delete_adapter(\\n\\n\\\"dpo\\\")\\n\\nInference with different LoRA adapters in the same batch\\n\\nNormally, each inference batch has to use the same adapter(s) in PEFT. This can sometimes be annoying, because we may have batches that contain samples intended to be used with different LoRA adapters. For example, we could have a base model that works well in English and two more LoRA adapters, one for French and one for German. Usually, we would have to split our batches such that each batch only contains samples of one of the languages, we cannot combine different languages in the same batch.\\n\\n# merge and unload adapters\\nmodel.merge_and_unload()\"\n",
      "    }\n",
      "  ]\n",
      "}\n",
      "\u001b[32;1m\u001b[1;3m[chain/start]\u001b[0m \u001b[1m[chain:RetrievalQAWithSourcesChain > chain:MapReduceDocumentsChain > chain:LLMChain] Entering Chain run with input:\n",
      "\u001b[0m{\n",
      "  \"question\": \"How merge_an_unload() works?\",\n",
      "  \"summaries\": \"Content:  To eliminate latency, use the merge_and_unload() function to merge the adapter weights with the base model. This allows you to use the newly merged model as a standalone model. The merge_and_unload() function doesn’t keep the adapter weights in memory.\\nSource: https://huggingface.co/docs/peft/main/en/developer_guides/lora#merge-lora-weights-into-the-base-model\\n\\nContent: \\n\\n\\\"For obvious reasons, this cannot be used after calling merge_and_unload(), since all the LoRA adapters will be merged into the base weights in this case.\\\"\\nSource: https://huggingface.co/docs/peft/main/en/developer_guides/lora#merge-lora-weights-into-the-base-model\\n\\nContent: \\nNow you have the option to use unmerge_adapter() to return the base model. The add_weighted_adapter() function is useful for merging multiple LoRAs into a new adapter based on a user provided weighting scheme in the weights parameter.\\nSource: https://huggingface.co/docs/peft/main/en/developer_guides/lora#merge-lora-weights-into-the-base-model\\n\\nContent: \\n\\nTo return the base model, you could use unload() to unload all of the LoRA modules or delete_adapter() to delete the adapter entirely.\\n\\nCopied\\n\\n# unload adapter\\nmodel.unload()\\n\\n# delete adapter\\nmodel.delete_adapter(\\n\\n\\\"dpo\\\")\\n\\nInference with different LoRA adapters in the same batch\\n\\nNormally, each inference batch has to use the same adapter(s) in PEFT. This can sometimes be annoying, because we may have batches that contain samples intended to be used with different LoRA adapters. For example, we could have a base model that works well in English and two more LoRA adapters, one for French and one for German. Usually, we would have to split our batches such that each batch only contains samples of one of the languages, we cannot combine different languages in the same batch.\\n\\n# merge and unload adapters\\nmodel.merge_and_unload()\\nSource: https://huggingface.co/docs/peft/main/en/developer_guides/lora#merge-lora-weights-into-the-base-model\"\n",
      "}\n",
      "\u001b[32;1m\u001b[1;3m[llm/start]\u001b[0m \u001b[1m[chain:RetrievalQAWithSourcesChain > chain:MapReduceDocumentsChain > chain:LLMChain > llm:OpenAI] Entering LLM run with input:\n",
      "\u001b[0m{\n",
      "  \"prompts\": [\n",
      "    \"Given the following extracted parts of a long document and a question, create a final answer with references (\\\"SOURCES\\\"). \\nIf you don't know the answer, just say that you don't know. Don't try to make up an answer.\\nALWAYS return a \\\"SOURCES\\\" part in your answer.\\n\\nQUESTION: Which state/country's law governs the interpretation of the contract?\\n=========\\nContent: This Agreement is governed by English law and the parties submit to the exclusive jurisdiction of the English courts in  relation to any dispute (contractual or non-contractual) concerning this Agreement save that either party may apply to any court for an  injunction or other relief to protect its Intellectual Property Rights.\\nSource: 28-pl\\nContent: No Waiver. Failure or delay in exercising any right or remedy under this Agreement shall not constitute a waiver of such (or any other)  right or remedy.\\n\\n11.7 Severability. The invalidity, illegality or unenforceability of any term (or part of a term) of this Agreement shall not affect the continuation  in force of the remainder of the term (if any) and this Agreement.\\n\\n11.8 No Agency. Except as expressly stated otherwise, nothing in this Agreement shall create an agency, partnership or joint venture of any  kind between the parties.\\n\\n11.9 No Third-Party Beneficiaries.\\nSource: 30-pl\\nContent: (b) if Google believes, in good faith, that the Distributor has violated or caused Google to violate any Anti-Bribery Laws (as  defined in Clause 8.5) or that such a violation is reasonably likely to occur,\\nSource: 4-pl\\n=========\\nFINAL ANSWER: This Agreement is governed by English law.\\nSOURCES: 28-pl\\n\\nQUESTION: What did the president say about Michael Jackson?\\n=========\\nContent: Madam Speaker, Madam Vice President, our First Lady and Second Gentleman. Members of Congress and the Cabinet. Justices of the Supreme Court. My fellow Americans.  \\n\\nLast year COVID-19 kept us apart. This year we are finally together again. \\n\\nTonight, we meet as Democrats Republicans and Independents. But most importantly as Americans. \\n\\nWith a duty to one another to the American people to the Constitution. \\n\\nAnd with an unwavering resolve that freedom will always triumph over tyranny. \\n\\nSix days ago, Russia’s Vladimir Putin sought to shake the foundations of the free world thinking he could make it bend to his menacing ways. But he badly miscalculated. \\n\\nHe thought he could roll into Ukraine and the world would roll over. Instead he met a wall of strength he never imagined. \\n\\nHe met the Ukrainian people. \\n\\nFrom President Zelenskyy to every Ukrainian, their fearlessness, their courage, their determination, inspires the world. \\n\\nGroups of citizens blocking tanks with their bodies. Everyone from students to retirees teachers turned soldiers defending their homeland.\\nSource: 0-pl\\nContent: And we won’t stop. \\n\\nWe have lost so much to COVID-19. Time with one another. And worst of all, so much loss of life. \\n\\nLet’s use this moment to reset. Let’s stop looking at COVID-19 as a partisan dividing line and see it for what it is: A God-awful disease.  \\n\\nLet’s stop seeing each other as enemies, and start seeing each other for who we really are: Fellow Americans.  \\n\\nWe can’t change how divided we’ve been. But we can change how we move forward—on COVID-19 and other issues we must face together. \\n\\nI recently visited the New York City Police Department days after the funerals of Officer Wilbert Mora and his partner, Officer Jason Rivera. \\n\\nThey were responding to a 9-1-1 call when a man shot and killed them with a stolen gun. \\n\\nOfficer Mora was 27 years old. \\n\\nOfficer Rivera was 22. \\n\\nBoth Dominican Americans who’d grown up on the same streets they later chose to patrol as police officers. \\n\\nI spoke with their families and told them that we are forever in debt for their sacrifice, and we will carry on their mission to restore the trust and safety every community deserves.\\nSource: 24-pl\\nContent: And a proud Ukrainian people, who have known 30 years  of independence, have repeatedly shown that they will not tolerate anyone who tries to take their country backwards.  \\n\\nTo all Americans, I will be honest with you, as I’ve always promised. A Russian dictator, invading a foreign country, has costs around the world. \\n\\nAnd I’m taking robust action to make sure the pain of our sanctions  is targeted at Russia’s economy. And I will use every tool at our disposal to protect American businesses and consumers. \\n\\nTonight, I can announce that the United States has worked with 30 other countries to release 60 Million barrels of oil from reserves around the world.  \\n\\nAmerica will lead that effort, releasing 30 Million barrels from our own Strategic Petroleum Reserve. And we stand ready to do more if necessary, unified with our allies.  \\n\\nThese steps will help blunt gas prices here at home. And I know the news about what’s happening can seem alarming. \\n\\nBut I want you to know that we are going to be okay.\\nSource: 5-pl\\nContent: More support for patients and families. \\n\\nTo get there, I call on Congress to fund ARPA-H, the Advanced Research Projects Agency for Health. \\n\\nIt’s based on DARPA—the Defense Department project that led to the Internet, GPS, and so much more.  \\n\\nARPA-H will have a singular purpose—to drive breakthroughs in cancer, Alzheimer’s, diabetes, and more. \\n\\nA unity agenda for the nation. \\n\\nWe can do this. \\n\\nMy fellow Americans—tonight , we have gathered in a sacred space—the citadel of our democracy. \\n\\nIn this Capitol, generation after generation, Americans have debated great questions amid great strife, and have done great things. \\n\\nWe have fought for freedom, expanded liberty, defeated totalitarianism and terror. \\n\\nAnd built the strongest, freest, and most prosperous nation the world has ever known. \\n\\nNow is the hour. \\n\\nOur moment of responsibility. \\n\\nOur test of resolve and conscience, of history itself. \\n\\nIt is in this moment that our character is formed. Our purpose is found. Our future is forged. \\n\\nWell I know this nation.\\nSource: 34-pl\\n=========\\nFINAL ANSWER: The president did not mention Michael Jackson.\\nSOURCES:\\n\\nQUESTION: How merge_an_unload() works?\\n=========\\nContent:  To eliminate latency, use the merge_and_unload() function to merge the adapter weights with the base model. This allows you to use the newly merged model as a standalone model. The merge_and_unload() function doesn’t keep the adapter weights in memory.\\nSource: https://huggingface.co/docs/peft/main/en/developer_guides/lora#merge-lora-weights-into-the-base-model\\n\\nContent: \\n\\n\\\"For obvious reasons, this cannot be used after calling merge_and_unload(), since all the LoRA adapters will be merged into the base weights in this case.\\\"\\nSource: https://huggingface.co/docs/peft/main/en/developer_guides/lora#merge-lora-weights-into-the-base-model\\n\\nContent: \\nNow you have the option to use unmerge_adapter() to return the base model. The add_weighted_adapter() function is useful for merging multiple LoRAs into a new adapter based on a user provided weighting scheme in the weights parameter.\\nSource: https://huggingface.co/docs/peft/main/en/developer_guides/lora#merge-lora-weights-into-the-base-model\\n\\nContent: \\n\\nTo return the base model, you could use unload() to unload all of the LoRA modules or delete_adapter() to delete the adapter entirely.\\n\\nCopied\\n\\n# unload adapter\\nmodel.unload()\\n\\n# delete adapter\\nmodel.delete_adapter(\\n\\n\\\"dpo\\\")\\n\\nInference with different LoRA adapters in the same batch\\n\\nNormally, each inference batch has to use the same adapter(s) in PEFT. This can sometimes be annoying, because we may have batches that contain samples intended to be used with different LoRA adapters. For example, we could have a base model that works well in English and two more LoRA adapters, one for French and one for German. Usually, we would have to split our batches such that each batch only contains samples of one of the languages, we cannot combine different languages in the same batch.\\n\\n# merge and unload adapters\\nmodel.merge_and_unload()\\nSource: https://huggingface.co/docs/peft/main/en/developer_guides/lora#merge-lora-weights-into-the-base-model\\n=========\\nFINAL ANSWER:\"\n",
      "  ]\n",
      "}\n",
      "\u001b[36;1m\u001b[1;3m[llm/end]\u001b[0m \u001b[1m[chain:RetrievalQAWithSourcesChain > chain:MapReduceDocumentsChain > chain:LLMChain > llm:OpenAI] [1.68s] Exiting LLM run with output:\n",
      "\u001b[0m{\n",
      "  \"generations\": [\n",
      "    [\n",
      "      {\n",
      "        \"text\": \" The function merge_an_unload() merges the adapter weights with the base model to create a standalone model, and unload() is used to return the base model or delete the adapter entirely. Sources: https://huggingface.co/docs/peft/main/en/developer_guides/lora#merge-lora-weights-into-the-base-model\",\n",
      "        \"generation_info\": {\n",
      "          \"finish_reason\": \"stop\",\n",
      "          \"logprobs\": null\n",
      "        },\n",
      "        \"type\": \"Generation\"\n",
      "      }\n",
      "    ]\n",
      "  ],\n",
      "  \"llm_output\": {\n",
      "    \"token_usage\": {\n",
      "      \"prompt_tokens\": 1798,\n",
      "      \"total_tokens\": 1866,\n",
      "      \"completion_tokens\": 68\n",
      "    },\n",
      "    \"model_name\": \"gpt-3.5-turbo-instruct\"\n",
      "  },\n",
      "  \"run\": null\n",
      "}\n",
      "\u001b[36;1m\u001b[1;3m[chain/end]\u001b[0m \u001b[1m[chain:RetrievalQAWithSourcesChain > chain:MapReduceDocumentsChain > chain:LLMChain] [1.68s] Exiting Chain run with output:\n",
      "\u001b[0m{\n",
      "  \"text\": \" The function merge_an_unload() merges the adapter weights with the base model to create a standalone model, and unload() is used to return the base model or delete the adapter entirely. Sources: https://huggingface.co/docs/peft/main/en/developer_guides/lora#merge-lora-weights-into-the-base-model\"\n",
      "}\n",
      "\u001b[36;1m\u001b[1;3m[chain/end]\u001b[0m \u001b[1m[chain:RetrievalQAWithSourcesChain > chain:MapReduceDocumentsChain] [4.73s] Exiting Chain run with output:\n",
      "\u001b[0m{\n",
      "  \"output_text\": \" The function merge_an_unload() merges the adapter weights with the base model to create a standalone model, and unload() is used to return the base model or delete the adapter entirely. Sources: https://huggingface.co/docs/peft/main/en/developer_guides/lora#merge-lora-weights-into-the-base-model\"\n",
      "}\n",
      "\u001b[36;1m\u001b[1;3m[chain/end]\u001b[0m \u001b[1m[chain:RetrievalQAWithSourcesChain] [5.22s] Exiting Chain run with output:\n",
      "\u001b[0m{\n",
      "  \"answer\": \" The function merge_an_unload() merges the adapter weights with the base model to create a standalone model, and unload() is used to return the base model or delete the adapter entirely. \",\n",
      "  \"sources\": \"https://huggingface.co/docs/peft/main/en/developer_guides/lora#merge-lora-weights-into-the-base-model\"\n",
      "}\n"
     ]
    },
    {
     "data": {
      "text/plain": [
       "{'answer': ' The function merge_an_unload() merges the adapter weights with the base model to create a standalone model, and unload() is used to return the base model or delete the adapter entirely. ',\n",
       " 'sources': 'https://huggingface.co/docs/peft/main/en/developer_guides/lora#merge-lora-weights-into-the-base-model'}"
      ]
     },
     "execution_count": 44,
     "metadata": {},
     "output_type": "execute_result"
    }
   ],
   "source": [
    "import langchain\n",
    "langchain.debug = True\n",
    "chain({\"question\" : query}, return_only_outputs=True)"
   ]
  }
 ],
 "metadata": {
  "kernelspec": {
   "display_name": "Python 3 (ipykernel)",
   "language": "python",
   "name": "python3"
  },
  "language_info": {
   "codemirror_mode": {
    "name": "ipython",
    "version": 3
   },
   "file_extension": ".py",
   "mimetype": "text/x-python",
   "name": "python",
   "nbconvert_exporter": "python",
   "pygments_lexer": "ipython3",
   "version": "3.12.4"
  }
 },
 "nbformat": 4,
 "nbformat_minor": 5
}
