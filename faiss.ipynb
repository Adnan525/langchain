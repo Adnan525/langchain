{
 "cells": [
  {
   "cell_type": "code",
   "execution_count": 14,
   "id": "c1e83217-a99e-42b6-96ff-f2a876a8a77d",
   "metadata": {},
   "outputs": [],
   "source": [
    "import pandas as pd\n",
    "from sentence_transformers import SentenceTransformer\n",
    "import numpy as np\n",
    "import faiss\n",
    "pd.set_option(\"display.max_colwidth\", 100)"
   ]
  },
  {
   "cell_type": "code",
   "execution_count": 3,
   "id": "1e866b40-2ad2-4f4a-bb89-3981d3dee304",
   "metadata": {},
   "outputs": [
    {
     "data": {
      "text/plain": [
       "(8, 2)"
      ]
     },
     "execution_count": 3,
     "metadata": {},
     "output_type": "execute_result"
    }
   ],
   "source": [
    "df = pd.read_csv(\"data/sample_text.csv\")\n",
    "df.shape"
   ]
  },
  {
   "cell_type": "markdown",
   "id": "2bb5980a-4792-4a44-8034-eecc5ddbf49e",
   "metadata": {},
   "source": [
    "## embedding\n",
    "[HuggingFace Sentence Transformers](https://huggingface.co/sentence-transformers)"
   ]
  },
  {
   "cell_type": "code",
   "execution_count": 6,
   "id": "49e084cf-ff10-4594-9d2a-a5d47f6ae065",
   "metadata": {},
   "outputs": [],
   "source": [
    "encoder = SentenceTransformer(\"all-mpnet-base-v2\")\n",
    "vectors = encoder.encode(df[\"text\"])"
   ]
  },
  {
   "cell_type": "code",
   "execution_count": 7,
   "id": "505638d5-bbae-4b21-8163-6052fae710d8",
   "metadata": {},
   "outputs": [
    {
     "data": {
      "text/plain": [
       "array([[-0.00247387,  0.03626732, -0.0529046 , ..., -0.09152354,\n",
       "        -0.03970005, -0.04330489],\n",
       "       [-0.03357265,  0.00980519, -0.03250128, ..., -0.05165472,\n",
       "         0.02245887, -0.0315618 ],\n",
       "       [-0.01865329, -0.0405131 , -0.0123539 , ...,  0.00610588,\n",
       "        -0.07179645,  0.02773849],\n",
       "       ...,\n",
       "       [-0.00066454,  0.04252128, -0.05645507, ...,  0.01315469,\n",
       "        -0.03183561, -0.04357663],\n",
       "       [-0.03317154,  0.03252465, -0.02484838, ...,  0.0117442 ,\n",
       "         0.05747119,  0.00571026],\n",
       "       [-0.00166398,  0.0041383 , -0.0459708 , ...,  0.02008533,\n",
       "         0.05656245, -0.00161595]], dtype=float32)"
      ]
     },
     "execution_count": 7,
     "metadata": {},
     "output_type": "execute_result"
    }
   ],
   "source": [
    "vectors"
   ]
  },
  {
   "cell_type": "code",
   "execution_count": 8,
   "id": "af839d45-7402-4e71-9356-74587e2cf8b9",
   "metadata": {},
   "outputs": [
    {
     "data": {
      "text/plain": [
       "(8, 768)"
      ]
     },
     "execution_count": 8,
     "metadata": {},
     "output_type": "execute_result"
    }
   ],
   "source": [
    "vectors.shape"
   ]
  },
  {
   "cell_type": "markdown",
   "id": "2562e797-710a-4536-97db-4dd554e23661",
   "metadata": {},
   "source": [
    "## faiss\n",
    "[Faiss](https://github.com/facebookresearch/faiss/wiki/MetricType-and-distances)"
   ]
  },
  {
   "cell_type": "code",
   "execution_count": 11,
   "id": "b4cd6bc6-1a6b-44e2-b8a1-c07c19fb348e",
   "metadata": {},
   "outputs": [
    {
     "data": {
      "text/plain": [
       "<faiss.swigfaiss_avx512.IndexFlatL2; proxy of <Swig Object of type 'faiss::IndexFlatL2 *' at 0x7f836c17bf00> >"
      ]
     },
     "execution_count": 11,
     "metadata": {},
     "output_type": "execute_result"
    }
   ],
   "source": [
    "index = faiss.IndexFlatL2(vectors.shape[1]) # euclidean distance\n",
    "index"
   ]
  },
  {
   "cell_type": "code",
   "execution_count": 12,
   "id": "0f666ef1-a71d-4f0d-a004-d7d483f354f3",
   "metadata": {},
   "outputs": [],
   "source": [
    "index.add(vectors)"
   ]
  },
  {
   "cell_type": "code",
   "execution_count": 15,
   "id": "cbb04f02-69e4-4892-a859-af48223e59ef",
   "metadata": {},
   "outputs": [
    {
     "data": {
      "text/plain": [
       "(768,)"
      ]
     },
     "execution_count": 15,
     "metadata": {},
     "output_type": "execute_result"
    }
   ],
   "source": [
    "query = encoder.encode(\"I want to buy a polo shirt\")\n",
    "query.shape"
   ]
  },
  {
   "cell_type": "code",
   "execution_count": 16,
   "id": "ca691316-5274-4637-95a8-8a60d8cc87e9",
   "metadata": {},
   "outputs": [
    {
     "data": {
      "text/plain": [
       "(1, 768)"
      ]
     },
     "execution_count": 16,
     "metadata": {},
     "output_type": "execute_result"
    }
   ],
   "source": [
    "query = np.array(query).reshape(1, -1)\n",
    "query.shape"
   ]
  },
  {
   "cell_type": "code",
   "execution_count": 17,
   "id": "947f67c8-c7c9-4009-a505-c765d4da410c",
   "metadata": {},
   "outputs": [
    {
     "data": {
      "text/plain": [
       "(array([[1.3312308, 1.3508227]], dtype=float32), array([[3, 2]]))"
      ]
     },
     "execution_count": 17,
     "metadata": {},
     "output_type": "execute_result"
    }
   ],
   "source": [
    "index.search(query, k=2) # k number of contexts"
   ]
  },
  {
   "cell_type": "code",
   "execution_count": 20,
   "id": "99d2f454-2a22-420d-a137-9a30f6abf63a",
   "metadata": {},
   "outputs": [
    {
     "data": {
      "text/html": [
       "<div>\n",
       "<style scoped>\n",
       "    .dataframe tbody tr th:only-of-type {\n",
       "        vertical-align: middle;\n",
       "    }\n",
       "\n",
       "    .dataframe tbody tr th {\n",
       "        vertical-align: top;\n",
       "    }\n",
       "\n",
       "    .dataframe thead th {\n",
       "        text-align: right;\n",
       "    }\n",
       "</style>\n",
       "<table border=\"1\" class=\"dataframe\">\n",
       "  <thead>\n",
       "    <tr style=\"text-align: right;\">\n",
       "      <th></th>\n",
       "      <th>text</th>\n",
       "      <th>category</th>\n",
       "    </tr>\n",
       "  </thead>\n",
       "  <tbody>\n",
       "    <tr>\n",
       "      <th>3</th>\n",
       "      <td>Vibrant color jeans for male are becoming a trend</td>\n",
       "      <td>Fashion</td>\n",
       "    </tr>\n",
       "    <tr>\n",
       "      <th>2</th>\n",
       "      <td>These are the latest fashion trends for this week</td>\n",
       "      <td>Fashion</td>\n",
       "    </tr>\n",
       "  </tbody>\n",
       "</table>\n",
       "</div>"
      ],
      "text/plain": [
       "                                                text category\n",
       "3  Vibrant color jeans for male are becoming a trend  Fashion\n",
       "2  These are the latest fashion trends for this week  Fashion"
      ]
     },
     "execution_count": 20,
     "metadata": {},
     "output_type": "execute_result"
    }
   ],
   "source": [
    "df.loc[[3,2]]"
   ]
  }
 ],
 "metadata": {
  "kernelspec": {
   "display_name": "Python 3 (ipykernel)",
   "language": "python",
   "name": "python3"
  },
  "language_info": {
   "codemirror_mode": {
    "name": "ipython",
    "version": 3
   },
   "file_extension": ".py",
   "mimetype": "text/x-python",
   "name": "python",
   "nbconvert_exporter": "python",
   "pygments_lexer": "ipython3",
   "version": "3.12.4"
  }
 },
 "nbformat": 4,
 "nbformat_minor": 5
}
